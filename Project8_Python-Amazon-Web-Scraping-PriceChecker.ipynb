{
 "cells": [
  {
   "cell_type": "markdown",
   "id": "897d9e18",
   "metadata": {},
   "source": [
    "# Data Analyst Portfolio Project 8: Amazon Web Scraping - Price Checker"
   ]
  },
  {
   "cell_type": "code",
   "execution_count": null,
   "id": "f5bea27c",
   "metadata": {},
   "outputs": [],
   "source": [
    "# https://www.amazon.com/Logitech-LIGHTSPEED-programmable-connectivity-hyper-fast/dp/B07QN369XX"
   ]
  },
  {
   "cell_type": "code",
   "execution_count": 1,
   "id": "725e7f11",
   "metadata": {},
   "outputs": [],
   "source": [
    "# import BeautifulSoup and requests libraries\n",
    "\n",
    "from bs4 import BeautifulSoup\n",
    "import requests"
   ]
  },
  {
   "cell_type": "code",
   "execution_count": 2,
   "id": "18f24b1b",
   "metadata": {},
   "outputs": [
    {
     "name": "stdout",
     "output_type": "stream",
     "text": [
      "\n",
      "            Logitech G604 LIGHTSPEED Gaming Mouse with 15 programmable controls, up to 240 hour battery life, dual wireless connectivity modes, hyper-fast scroll wheel - Black\n",
      "           \n",
      "\n",
      "                          59\n",
      "                          \n",
      "                           .\n",
      "                          \n",
      "\n"
     ]
    }
   ],
   "source": [
    "# connect to product website and pull in data\n",
    "\n",
    "URL = 'https://www.amazon.com/Logitech-LIGHTSPEED-programmable-connectivity-hyper-fast/dp/B07QN369XX'\n",
    "\n",
    "headers = {\"User-Agent\": \"Mozilla/5.0 (Windows NT 10.0; Win64; x64) AppleWebKit/537.36 (KHTML, like Gecko) Chrome/111.0.0.0 Safari/537.36\", \"Accept-Encoding\":\"gzip, deflate\", \"Accept\":\"text/html,application/xhtml+xml,application/xml;q=0.9,*/*;q=0.8\", \"DNT\":\"1\",\"Connection\":\"close\", \"Upgrade-Insecure-Requests\":\"1\"}\n",
    "\n",
    "page = requests.get(URL, headers=headers)\n",
    "\n",
    "soup1 = BeautifulSoup(page.content, \"html.parser\")\n",
    "\n",
    "soup2 = BeautifulSoup(soup1.prettify(), \"html.parser\")\n",
    "\n",
    "productName = soup2.find(id='productTitle').get_text()\n",
    "\n",
    "productPrice = soup2.find(class_='a-price-whole').get_text()\n",
    "\n",
    "\n",
    "print(productName)\n",
    "print(productPrice)\n"
   ]
  },
  {
   "cell_type": "code",
   "execution_count": 3,
   "id": "54e3940d",
   "metadata": {},
   "outputs": [
    {
     "name": "stdout",
     "output_type": "stream",
     "text": [
      "Logitech G604 LIGHTSPEED Gaming Mouse with 15 programmable controls, up to 240 hour battery life, dual wireless connectivity modes, hyper-fast scroll wheel - Black\n",
      "59\n"
     ]
    }
   ],
   "source": [
    "# clean the data a little bit\n",
    "\n",
    "productName = productName.strip()\n",
    "productPrice = productPrice.strip()[0:2]\n",
    "\n",
    "\n",
    "print(productName)\n",
    "print(productPrice)"
   ]
  },
  {
   "cell_type": "code",
   "execution_count": 4,
   "id": "e777f3d8",
   "metadata": {},
   "outputs": [
    {
     "name": "stdout",
     "output_type": "stream",
     "text": [
      "2023-03-10\n"
     ]
    }
   ],
   "source": [
    "# create datestamp to track when data was collected\n",
    "\n",
    "import datetime\n",
    "\n",
    "date_today = datetime.date.today()\n",
    "\n",
    "\n",
    "print(date_today)"
   ]
  },
  {
   "cell_type": "code",
   "execution_count": 5,
   "id": "7e012cee",
   "metadata": {},
   "outputs": [],
   "source": [
    "# create .csv and write column names and data into the file (run only once)\n",
    "\n",
    "import csv \n",
    "\n",
    "column_name = ['ProductName', 'ProductPrice', 'DateCollected']\n",
    "data = [productName, productPrice, date_today]\n",
    "\n",
    "\n",
    "with open('LogitechG604DailyPriceCheckDataset.csv', 'w', newline='', encoding='UTF8') as f:\n",
    "    writer = csv.writer(f)\n",
    "    writer.writerow(column_name)\n",
    "    writer.writerow(data)"
   ]
  },
  {
   "cell_type": "code",
   "execution_count": 6,
   "id": "b4468431",
   "metadata": {},
   "outputs": [],
   "source": [
    "# appending data to the csv\n",
    "\n",
    "with open('LogitechG604DailyPriceCheckDataset.csv', 'a+', newline='', encoding='UTF8') as f:\n",
    "    writer = csv.writer(f)\n",
    "    writer.writerow(data)"
   ]
  },
  {
   "cell_type": "code",
   "execution_count": 6,
   "id": "26d01f52",
   "metadata": {},
   "outputs": [
    {
     "name": "stdout",
     "output_type": "stream",
     "text": [
      "                                         ProductName  ProductPrice  \\\n",
      "0  Logitech G604 LIGHTSPEED Gaming Mouse with 15 ...            59   \n",
      "\n",
      "  DateCollected  \n",
      "0    2023-03-10  \n"
     ]
    }
   ],
   "source": [
    "# to quickly view the contents of the .csv file\n",
    "\n",
    "import pandas as pd\n",
    "\n",
    "dataFrame = pd.read_csv(r'C:\\Users\\Jd\\AlexTheAnalyst-PythonProjects-Acer\\LogitechG604DailyPriceCheckDataset.csv')\n",
    "\n",
    "\n",
    "print(dataFrame)"
   ]
  },
  {
   "cell_type": "code",
   "execution_count": 7,
   "id": "6cb2f4a8",
   "metadata": {},
   "outputs": [],
   "source": [
    "# combining all of the above code into one function\n",
    "\n",
    "def priceChecker():\n",
    "    # import BeautifulSoup and requests libraries\n",
    "    from bs4 import BeautifulSoup\n",
    "    import requests\n",
    "    \n",
    "    # connect to product website and pull in data\n",
    "    URL = 'https://www.amazon.com/Logitech-LIGHTSPEED-programmable-connectivity-hyper-fast/dp/B07QN369XX' \n",
    "    headers = {\"User-Agent\": \"Mozilla/5.0 (Windows NT 10.0; Win64; x64) AppleWebKit/537.36 (KHTML, like Gecko) Chrome/111.0.0.0 Safari/537.36\", \"Accept-Encoding\":\"gzip, deflate\", \"Accept\":\"text/html,application/xhtml+xml,application/xml;q=0.9,*/*;q=0.8\", \"DNT\":\"1\",\"Connection\":\"close\", \"Upgrade-Insecure-Requests\":\"1\"}\n",
    "    page = requests.get(URL, headers=headers)\n",
    "    soup1 = BeautifulSoup(page.content, \"html.parser\")\n",
    "    soup2 = BeautifulSoup(soup1.prettify(), \"html.parser\")\n",
    "    productName = soup2.find(id='productTitle').get_text()\n",
    "    productPrice = soup2.find(class_='a-price-whole').get_text()\n",
    "    \n",
    "    # clean the data a little bit\n",
    "    productName = productName.strip()\n",
    "    productPrice = productPrice.strip()[0:2]\n",
    "    \n",
    "    # create datestamp to track when data was collected\n",
    "    import datetime\n",
    "    date_today = datetime.date.today()\n",
    "    \n",
    "    # create .csv and write column names and data into the file\n",
    "    import csv \n",
    "    column_name = ['ProductName', 'ProductPrice', 'DateCollected']\n",
    "    data = [productName, productPrice, date_today]\n",
    "\n",
    "    # appending data to the csv\n",
    "    with open('LogitechG604DailyPriceCheckDataset.csv', 'a+', newline='', encoding='UTF8') as f:\n",
    "        writer = csv.writer(f)\n",
    "        writer.writerow(data)\n",
    "        \n",
    "    # to quickly view the contents of the .csv file\n",
    "    import pandas as pd\n",
    "    dataFrame = pd.read_csv(r'C:\\Users\\Jd\\AlexTheAnalyst-PythonProjects-Acer\\LogitechG604DailyPriceCheckDataset.csv')\n",
    "    print(dataFrame)"
   ]
  },
  {
   "cell_type": "code",
   "execution_count": null,
   "id": "241528be",
   "metadata": {},
   "outputs": [],
   "source": [
    "# runs priceChecker after a set time (i.e. 86400 seconds or 1 day) and inputs data into the .csv\n",
    "import time\n",
    "\n",
    "while(True):\n",
    "    priceChecker()\n",
    "    time.sleep(86400)"
   ]
  }
 ],
 "metadata": {
  "kernelspec": {
   "display_name": "Python 3 (ipykernel)",
   "language": "python",
   "name": "python3"
  },
  "language_info": {
   "codemirror_mode": {
    "name": "ipython",
    "version": 3
   },
   "file_extension": ".py",
   "mimetype": "text/x-python",
   "name": "python",
   "nbconvert_exporter": "python",
   "pygments_lexer": "ipython3",
   "version": "3.9.13"
  }
 },
 "nbformat": 4,
 "nbformat_minor": 5
}
