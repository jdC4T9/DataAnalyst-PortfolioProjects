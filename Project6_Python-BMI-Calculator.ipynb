{
 "cells": [
  {
   "cell_type": "markdown",
   "id": "f49d4b9f",
   "metadata": {},
   "source": [
    "# Data Analyst Portfolio Project 6: BMI Calculator"
   ]
  },
  {
   "cell_type": "code",
   "execution_count": 26,
   "id": "1dc8d90e",
   "metadata": {},
   "outputs": [],
   "source": [
    "# Hi, my name is Jd.\n",
    "# This project intends to highlight basic Python skills which include:\n",
    "# input prompt, data type conversion, while loops and if-elif-else statements.\n",
    "# Thank you!"
   ]
  },
  {
   "cell_type": "code",
   "execution_count": null,
   "id": "7001cea1",
   "metadata": {},
   "outputs": [],
   "source": [
    "# name prompt\n",
    "name = input('Enter your name:')\n",
    "\n",
    "\n",
    "# weight prompt, does not accept negative numbers\n",
    "weight = float(input('Enter your weight in pounds:'))\n",
    "while (weight <= 0):\n",
    "    print('Enter a valid input.')\n",
    "    weight = float(input('Enter your weight in pounds:'))\n",
    "else: \n",
    "    pass\n",
    "\n",
    "\n",
    "# height prompt, does not accept negative numbers\n",
    "height = float(input('Enter your height in inches:'))\n",
    "while (height <= 0):\n",
    "    print('Enter a valid input.')\n",
    "    height = float(input('Enter your height in inches:'))\n",
    "else: \n",
    "    pass\n",
    "\n",
    "\n",
    "\n",
    "print('')\n",
    "\n",
    "\n",
    "# BMI classification via if-elif-else statements\n",
    "# BMI = (weight in pounds x 703) / (height in inches x height in inches)\n",
    "# Under 18.5 .........Underweight .........Minimal health risk\n",
    "# 18.5 - 24.9 ........Normal Weight .......Minimal health risk\n",
    "# 25 - 29.9 ..........Overweight ..........Increased health risk\n",
    "# 30 - 34.9 ..........Obese ...............High health risk\n",
    "# 35 - 39.9 ..........Severely Obese ......Very High health risk\n",
    "# 40 and over ........Morbidly Obese ......Extremely High health risk\n",
    "\n",
    "BMI = (weight * 703) / (height * height)\n",
    "if(BMI > 0 and BMI < 18.5):\n",
    "    print('Hi',name,'your BMI is',round(BMI,1),'and you are underweight. You have a minimal health risk.')\n",
    "elif(BMI >= 18.5 and BMI <= 24.9):\n",
    "    print('Hi',name,'your BMI is',round(BMI,1),'and you have a normal weight. You have a minimal health risk.')\n",
    "elif(BMI >= 25 and BMI <= 29.9):\n",
    "    print('Hi',name,'your BMI is',round(BMI,1),'and you are overweight. You have an INCREASED HEALTH RISK.')  \n",
    "elif(BMI >= 30 and BMI <= 34.9):\n",
    "    print('Hi',name,'your BMI is',round(BMI,1),'and you are obese. You have a HIGH HEALTH RISK.')    \n",
    "elif(BMI >= 35 and BMI <= 39.9):\n",
    "    print('Hi',name,'your BMI is',round(BMI,1),'and you are severely obese. You have a VERY HIGH HEALTH RISK.')  \n",
    "else:\n",
    "    print('Hi',name,'your BMI is',round(BMI,1),'and you are morbidly obese. You have an EXTREMELY HIGH HEALTH RISK.')  "
   ]
  }
 ],
 "metadata": {
  "kernelspec": {
   "display_name": "Python 3 (ipykernel)",
   "language": "python",
   "name": "python3"
  },
  "language_info": {
   "codemirror_mode": {
    "name": "ipython",
    "version": 3
   },
   "file_extension": ".py",
   "mimetype": "text/x-python",
   "name": "python",
   "nbconvert_exporter": "python",
   "pygments_lexer": "ipython3",
   "version": "3.9.13"
  }
 },
 "nbformat": 4,
 "nbformat_minor": 5
}
