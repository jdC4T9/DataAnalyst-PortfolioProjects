{
 "cells": [
  {
   "cell_type": "markdown",
   "id": "4946e024",
   "metadata": {},
   "source": [
    "# Data Analyst Portfolio Project 7: Automated File Sorter"
   ]
  },
  {
   "cell_type": "code",
   "execution_count": 42,
   "id": "cea22a71",
   "metadata": {},
   "outputs": [],
   "source": [
    "# This allows us to automate the sorting of our files without having to drag and drop files into folders.\n",
    "# NOTE: shutil allows us to do high level operations on our files in file explorer\n",
    "\n",
    "import os, shutil"
   ]
  },
  {
   "cell_type": "code",
   "execution_count": 43,
   "id": "83df08e1",
   "metadata": {},
   "outputs": [],
   "source": [
    "# NOTE: change backslash to forward slash when copy-pasting file directory and add another forward slash before the quotation\n",
    "\n",
    "path = r'C:/Users/Jd/AlexTheAnalyst-PythonProjects-Acer/SORT THESE/'"
   ]
  },
  {
   "cell_type": "code",
   "execution_count": 44,
   "id": "fe6a7d44",
   "metadata": {},
   "outputs": [],
   "source": [
    "# check the files in the directory and put it in a variable\n",
    "\n",
    "files_in_directory = os.listdir(path)"
   ]
  },
  {
   "cell_type": "code",
   "execution_count": 45,
   "id": "f46d43a5",
   "metadata": {},
   "outputs": [
    {
     "name": "stdout",
     "output_type": "stream",
     "text": [
      "C:/Users/Jd/AlexTheAnalyst-PythonProjects-Acer/SORT THESE/image files\n",
      "C:/Users/Jd/AlexTheAnalyst-PythonProjects-Acer/SORT THESE/tableau files\n",
      "C:/Users/Jd/AlexTheAnalyst-PythonProjects-Acer/SORT THESE/excel files\n",
      "C:/Users/Jd/AlexTheAnalyst-PythonProjects-Acer/SORT THESE/sql files\n",
      "C:/Users/Jd/AlexTheAnalyst-PythonProjects-Acer/SORT THESE/power bi files\n",
      "C:/Users/Jd/AlexTheAnalyst-PythonProjects-Acer/SORT THESE/python files\n"
     ]
    }
   ],
   "source": [
    "# check if there are already folders and create if there aren't any\n",
    "\n",
    "folder_names = ['image files','tableau files','excel files','sql files','power bi files','python files']\n",
    "\n",
    "for index in range(0,6):\n",
    "    if not os.path.exists(path + folder_names[index]):\n",
    "        print(path + folder_names[index])\n",
    "        os.makedirs(path + folder_names[index])\n",
    "    \n",
    "    \n",
    "\n",
    "# loop through the directory to check each file and sort them into their respective folders\n",
    "\n",
    "for file_name in files_in_directory:\n",
    "    if '.csv' in file_name and not os.path.exists(path + 'excel files/' + file_name):\n",
    "        shutil.move(path + file_name, path + 'excel files/' + file_name)\n",
    "    elif '.xlsx' in file_name and not os.path.exists(path + 'excel files/' + file_name):\n",
    "        shutil.move(path + file_name, path + 'excel files/' + file_name)\n",
    "    elif '.jpg' in file_name and not os.path.exists(path + 'image files/' + file_name):\n",
    "        shutil.move(path + file_name, path + 'image files/' + file_name)\n",
    "    elif '.twbx' in file_name and not os.path.exists(path + 'tableau files/' + file_name):\n",
    "        shutil.move(path + file_name, path + 'tableau files/' + file_name)\n",
    "    elif '.sql' in file_name and not os.path.exists(path + 'sql files/' + file_name):\n",
    "        shutil.move(path + file_name, path + 'sql files/' + file_name)\n",
    "    elif '.pbix' in file_name and not os.path.exists(path + 'power bi files/' + file_name):\n",
    "        shutil.move(path + file_name, path + 'power bi files/' + file_name)\n",
    "    elif '.ipynb' in file_name and not os.path.exists(path + 'python files/' + file_name):\n",
    "        shutil.move(path + file_name, path + 'python files/' + file_name)\n",
    "    else: \n",
    "        pass"
   ]
  }
 ],
 "metadata": {
  "kernelspec": {
   "display_name": "Python 3 (ipykernel)",
   "language": "python",
   "name": "python3"
  },
  "language_info": {
   "codemirror_mode": {
    "name": "ipython",
    "version": 3
   },
   "file_extension": ".py",
   "mimetype": "text/x-python",
   "name": "python",
   "nbconvert_exporter": "python",
   "pygments_lexer": "ipython3",
   "version": "3.9.13"
  }
 },
 "nbformat": 4,
 "nbformat_minor": 5
}
